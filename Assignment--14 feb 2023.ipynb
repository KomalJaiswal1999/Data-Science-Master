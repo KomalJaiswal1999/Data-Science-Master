{
 "cells": [
  {
   "cell_type": "markdown",
   "metadata": {},
   "source": [
    "### Q1.  What is multithreading in python? Why is it used? Name the module used to handle threads in python?"
   ]
  },
  {
   "cell_type": "markdown",
   "metadata": {},
   "source": [
    "##### Multithreading:\n",
    "Multithreading refers to concurrently executing multiple threads by rapidly switching the control of the CPU between threads (called context switching).\n",
    "\n",
    "##### Why it is used\n",
    "Multi-threading enables you to write in a way where multiple activities can proceed concurrently in the same program\n",
    "\n",
    "##### Module used to handle threads \n",
    "The threading module is used to handle threads in python\n"
   ]
  },
  {
   "cell_type": "markdown",
   "metadata": {},
   "source": [
    "### Q2.  Why threading module used? Write the use of the following functions:\n",
    "###   1. activeCount()\n",
    "###   2. currentThread()\n",
    "###   3.enumerate()\n"
   ]
  },
  {
   "cell_type": "markdown",
   "metadata": {},
   "source": [
    "Threads allows a program to operate more efficiently by doing multiple things at the same time. Threads can be used to perform complicated tasks in the background without interrupting the main program.\n",
    "\n",
    "\n",
    "##### activeCount():\n",
    "active_count() is an inbuilt method of the threading module in Python. It is used to return the number of Thread objects that are active at any instant.\n",
    "\n",
    "##### currentThread():\n",
    "current_thread() is an inbuilt method of the threading module in Python. It is used to return the current Thread object, which corresponds to the caller's thread of control.\n",
    "The return type of this method is a Thread class object, it returns the current Thread object active at the moment.\n",
    "\n",
    "##### enumerate():\n",
    "The enumerate() function adds counter to an iterable and returns it. The returned object is an enumerate object.\n",
    "\n",
    "You can convert enumerate objects to list and tuple using list() and tuple() functions respectively.\n",
    "\n",
    "\n"
   ]
  },
  {
   "cell_type": "markdown",
   "metadata": {},
   "source": [
    "### Q3. Explain the following function\n",
    "###    1. run()\n",
    "###    2.start()\n",
    "###    3.join()\n",
    "###    4. isAlive()"
   ]
  },
  {
   "cell_type": "markdown",
   "metadata": {},
   "source": [
    "##### run():\n",
    "The run() method executes any target function belonging to a given thread object that is now active. It normally executes in the background after the start() method is invoked.\n",
    "\n",
    "This method denotes the activity of a thread and can be overridden by a class that extends the Thread class.\n",
    "\n",
    "\n",
    "##### start():\n",
    "start() method is an inbuilt method of the Thread class of the threading module in Python. It is used to start a thread's activity. This method calls the run() method internally which then executes the target method. This method must be called at most one time for one thread. If it is called more than once, it raises a RuntimeError.\n",
    "\n",
    "Starts the activity of a thread. It must be called only once for each thread because it will throw a runtime error if called multiple times.\n",
    "\n",
    "\n",
    "##### join():\n",
    "join() method is an inbuilt method of the Thread class of the threading module in Python. Whenever this method is called for any Thread object, it blocks the calling thread till the time the thread whose join() method is called terminates, either normally or through an unhandled exception.\n",
    "\n",
    "It blocks the execution of other code until the thread on which the join() method was called gets terminated.\n",
    "\n",
    "\n",
    "##### isAlive():\n",
    "is_alive() method is an inbuilt method of the Thread class of the threading module in Python. It uses a Thread object, and checks whether that thread is alive or not, ie, it is still running or not. This method returns True before the run() starts until just after the run() method is executed.\n",
    "\n",
    "Returns true if the thread is still alive.\n"
   ]
  },
  {
   "cell_type": "markdown",
   "metadata": {},
   "source": [
    "### Q4.   Write a python program to create two threads. Thread one must print the list of squares and thread two must print the list of cubes"
   ]
  },
  {
   "cell_type": "code",
   "execution_count": 3,
   "metadata": {},
   "outputs": [
    {
     "name": "stdout",
     "output_type": "stream",
     "text": [
      "Square: 100\n",
      "Cube: 1000\n",
      "Done!\n"
     ]
    }
   ],
   "source": [
    "import threading\n",
    " \n",
    "def print_cube(num):\n",
    "    # function to print cube of given num\n",
    "    print(\"Cube: {}\" .format(num * num * num))\n",
    " \n",
    "def print_square(num):\n",
    "    # function to print square of given num\n",
    "    print(\"Square: {}\" .format(num * num))\n",
    " \n",
    " \n",
    "if __name__ ==\"__main__\":\n",
    "    # creating thread\n",
    "    t1 = threading.Thread(target=print_square, args=(10,))\n",
    "    t2 = threading.Thread(target=print_cube, args=(10,))\n",
    " \n",
    "    # starting thread 1\n",
    "    t1.start()\n",
    "    # starting thread 2\n",
    "    t2.start()\n",
    " \n",
    "    # wait until thread 1 is completely executed\n",
    "    t1.join()\n",
    "    # wait until thread 2 is completely executed\n",
    "    t2.join()\n",
    " \n",
    "    # both threads completely executed\n",
    "    print(\"Done!\")"
   ]
  },
  {
   "cell_type": "markdown",
   "metadata": {},
   "source": [
    "### Q5. State advantages and disadvantages of multithreading"
   ]
  },
  {
   "cell_type": "markdown",
   "metadata": {},
   "source": [
    "##### Advantage:\n",
    "1. Python multithreading enables efficient utilization of the resources as the threads share the data space and memory.\n",
    "2. Multithreading in Python allows the concurrent and parallel occurrence of various tasks.\n",
    "3. It causes a reduction in time consumption or response time, thereby increasing the performance.\n",
    "\n",
    "##### Disadvantage:\n",
    "1. Increases the complexity of the program.\n",
    "2. Synchronization of shared resources (objects, data) is necessary.\n",
    "3. Difficult to debug unpredictable results\n",
    "4. Constructing and synchronizing threads is CPU/memory intensive.\n"
   ]
  },
  {
   "cell_type": "markdown",
   "metadata": {},
   "source": [
    "### Q6. Explain deadlocks and race conditions."
   ]
  },
  {
   "cell_type": "markdown",
   "metadata": {},
   "source": [
    "##### Race Condition:\n",
    "A race condition occurs when two threads use the same variable at a given time.In racing, two tasks compete with each other and try to complete a task before each other. \n",
    "\n",
    "A race condition occurs when two threads access a shared variable at the same time. The first thread reads the variable, and the second thread reads the same value from the variable. Then the first thread and second thread perform their operations on the value, and they race to see which thread can write the value last to the shared variable. The value of the thread that writes its value last is preserved, because the thread is writing over the value that the previous thread wrote.\n",
    "\n",
    "##### Deadlocks:\n",
    "Deadlock exists when two threads seek one lock simultaneously.In a deadlock, two processes are waiting and expecting the complementary process to complete the task.\n",
    "\n",
    "A deadlock occurs when two threads each lock a different variable at the same time and then try to lock the variable that the other thread already locked. As a result, each thread stops executing and waits for the other thread to release the variable. Because each thread is holding the variable that the other thread wants, nothing occurs, and the threads remain deadlocked."
   ]
  },
  {
   "cell_type": "code",
   "execution_count": null,
   "metadata": {},
   "outputs": [],
   "source": []
  },
  {
   "cell_type": "code",
   "execution_count": null,
   "metadata": {},
   "outputs": [],
   "source": []
  }
 ],
 "metadata": {
  "kernelspec": {
   "display_name": "Python 3 (ipykernel)",
   "language": "python",
   "name": "python3"
  },
  "language_info": {
   "codemirror_mode": {
    "name": "ipython",
    "version": 3
   },
   "file_extension": ".py",
   "mimetype": "text/x-python",
   "name": "python",
   "nbconvert_exporter": "python",
   "pygments_lexer": "ipython3",
   "version": "3.11.5"
  }
 },
 "nbformat": 4,
 "nbformat_minor": 4
}
