{
 "cells": [
  {
   "cell_type": "markdown",
   "metadata": {},
   "source": [
    "### . Q1.  You are writing code for a company. The requirement of the company is that you create a python function that will check whether the password entered by the user is correct or not. The function should take the password as input and return the string “Valid Password” if the entered password follows the below-given password guidelines else it should return “Invalid Password”.\n",
    "\n",
    "Note: 1. The Password should contain at least two uppercase letters and at least two lowercase letters.\n",
    "      2. The Password should contain at least a number and three special characters. \n",
    "      3. The length of the password should be 10 characters long."
   ]
  },
  {
   "cell_type": "code",
   "execution_count": 3,
   "metadata": {},
   "outputs": [
    {
     "name": "stdout",
     "output_type": "stream",
     "text": [
      "Enter password: Komal123456@\n"
     ]
    },
    {
     "data": {
      "text/plain": [
       "'InValid Password'"
      ]
     },
     "execution_count": 3,
     "metadata": {},
     "output_type": "execute_result"
    }
   ],
   "source": [
    "\n",
    "def Checkpassword(pwd):\n",
    "    lower, upper, special, digit = 0, 0, 0, 0\n",
    "    if (len(pwd) >= 10):\n",
    "        for i in pwd:\n",
    "            # counting lowercase alphabets\n",
    "            if (i.islower()):\n",
    "                lower+=1           \n",
    "            # counting uppercase alphabets\n",
    "            if (i.isupper()):\n",
    "                upper+=1           \n",
    "            # counting digits\n",
    "            if (i.isdigit()):\n",
    "                digit+=1           \n",
    "            # counting the mentioned special characters\n",
    "            if(i=='@'or i=='$' or i=='_'):\n",
    "                special+=1          \n",
    "    if (lower>=2 and upper>=2 and special>=3 and digit>=1 and lower+special+upper+digit==len(pwd)):\n",
    "        return \"Valid Password\"\n",
    "    else:\n",
    "        return \"InValid Password\"\n",
    "    \n",
    "Password=input(\"Enter password: \")\n",
    "Checkpassword(Password)\n",
    "\n"
   ]
  },
  {
   "cell_type": "markdown",
   "metadata": {},
   "source": [
    "### Q2.  Solve the below-given questions using at least one of the following:1. Lambda function 2. Filter function 3. Map function 4. List Comprehension\n",
    "\n"
   ]
  },
  {
   "cell_type": "markdown",
   "metadata": {},
   "source": [
    "### a.  Check if the string starts with a particular letter"
   ]
  },
  {
   "cell_type": "code",
   "execution_count": 25,
   "metadata": {},
   "outputs": [
    {
     "name": "stdout",
     "output_type": "stream",
     "text": [
      "Enter string: 9789678\n",
      "False\n"
     ]
    }
   ],
   "source": [
    "x=input(\"Enter string: \")\n",
    "letter = lambda x:True if x[0].isalpha() else False\n",
    "print(letter(x))\n"
   ]
  },
  {
   "cell_type": "markdown",
   "metadata": {},
   "source": [
    "### b. Check if the string is numeric"
   ]
  },
  {
   "cell_type": "code",
   "execution_count": 29,
   "metadata": {},
   "outputs": [
    {
     "name": "stdout",
     "output_type": "stream",
     "text": [
      "Enter number: ghjg76567\n",
      "False\n"
     ]
    }
   ],
   "source": [
    "x=input(\"Enter number: \")\n",
    "letter = lambda x:True if x[0].isnumeric() else False\n",
    "print(letter(x))\n"
   ]
  },
  {
   "cell_type": "markdown",
   "metadata": {},
   "source": [
    "### c. Sort a list of tuples having fruit names and their quantity. [(\"mango\",99),(\"orange\",80), (\"grapes\", 1000)]"
   ]
  },
  {
   "cell_type": "code",
   "execution_count": 30,
   "metadata": {},
   "outputs": [
    {
     "data": {
      "text/plain": [
       "[('orange', 80), ('mango', 99), ('grapes', 1000)]"
      ]
     },
     "execution_count": 30,
     "metadata": {},
     "output_type": "execute_result"
    }
   ],
   "source": [
    "lst = [(\"mango\",99),(\"orange\",80), (\"grapes\", 1000)]\n",
    "lst.sort(key=lambda x:x[1])\n",
    "lst\n",
    "\n"
   ]
  },
  {
   "cell_type": "markdown",
   "metadata": {},
   "source": [
    "### d. Find the squares of numbers from 1 to 10"
   ]
  },
  {
   "cell_type": "code",
   "execution_count": 53,
   "metadata": {},
   "outputs": [
    {
     "name": "stdout",
     "output_type": "stream",
     "text": [
      "[1, 4, 9, 16, 25, 36, 49, 64, 81, 100]\n"
     ]
    }
   ],
   "source": [
    "def squar(x):\n",
    "    return x**2\n",
    "\n",
    "square_value = map(squar,range(1,11))\n",
    "print(list(square_value))"
   ]
  },
  {
   "cell_type": "markdown",
   "metadata": {},
   "source": [
    "### e.  Find the cube root of numbers from 1 to 10"
   ]
  },
  {
   "cell_type": "code",
   "execution_count": 54,
   "metadata": {},
   "outputs": [
    {
     "name": "stdout",
     "output_type": "stream",
     "text": [
      "[1, 8, 27, 64, 125, 216, 343, 512, 729, 1000]\n"
     ]
    }
   ],
   "source": [
    "def cube(x):\n",
    "    return x**3\n",
    "\n",
    "cube_value = map(cube,range(1,11))\n",
    "print(list(cube_value))"
   ]
  },
  {
   "cell_type": "markdown",
   "metadata": {},
   "source": [
    "### f. Check if a given number is even"
   ]
  },
  {
   "cell_type": "code",
   "execution_count": 21,
   "metadata": {},
   "outputs": [
    {
     "name": "stdout",
     "output_type": "stream",
     "text": [
      "Enter number: 3\n",
      "odd\n"
     ]
    }
   ],
   "source": [
    "a =int(input(\"Enter number: \"))\n",
    "x = lambda a :'even' if (a%2==0) else 'odd'\n",
    "print(x(a))\n"
   ]
  },
  {
   "cell_type": "markdown",
   "metadata": {},
   "source": [
    "### g.  Filter odd numbers from the given list: [1,2,3,4,5,6,7,8,9,10]\n",
    "        "
   ]
  },
  {
   "cell_type": "code",
   "execution_count": 2,
   "metadata": {},
   "outputs": [
    {
     "name": "stdout",
     "output_type": "stream",
     "text": [
      "[1, 3, 5, 7, 9]\n"
     ]
    }
   ],
   "source": [
    "givenlist = [1,2,3,4,5,6,7,8,9,10]\n",
    "newlist = []\n",
    "\n",
    "for x in givenlist:\n",
    "  if x%2!=0:\n",
    "    newlist.append(x)\n",
    "\n",
    "print(newlist)"
   ]
  },
  {
   "cell_type": "markdown",
   "metadata": {},
   "source": [
    "### h. Sort a list of integers into positive and negative integers lists: [1,2,3,4,5,6,-1,-2,-3,-4,-5,0]"
   ]
  },
  {
   "cell_type": "code",
   "execution_count": 7,
   "metadata": {},
   "outputs": [
    {
     "name": "stdout",
     "output_type": "stream",
     "text": [
      "Positive integer are:  [1, 2, 3, 4, 5, 6, 0]\n",
      "Negative integer are:  [-1, -2, -3, -4, -5]\n"
     ]
    }
   ],
   "source": [
    "givenlist=[1,2,3,4,5,6,-1,-2,-3,-4,-5,0]\n",
    "positive=[]\n",
    "negative=[]\n",
    "\n",
    "for x in givenlist:\n",
    "    if x>=0:\n",
    "        positive.append(x)\n",
    "        \n",
    "    else:\n",
    "        negative.append(x)\n",
    "        \n",
    "print(\"Positive integer are: \",positive)\n",
    "print(\"Negative integer are: \",negative)"
   ]
  },
  {
   "cell_type": "code",
   "execution_count": null,
   "metadata": {},
   "outputs": [],
   "source": []
  },
  {
   "cell_type": "markdown",
   "metadata": {},
   "source": []
  },
  {
   "cell_type": "code",
   "execution_count": null,
   "metadata": {},
   "outputs": [],
   "source": []
  }
 ],
 "metadata": {
  "kernelspec": {
   "display_name": "Python 3 (ipykernel)",
   "language": "python",
   "name": "python3"
  },
  "language_info": {
   "codemirror_mode": {
    "name": "ipython",
    "version": 3
   },
   "file_extension": ".py",
   "mimetype": "text/x-python",
   "name": "python",
   "nbconvert_exporter": "python",
   "pygments_lexer": "ipython3",
   "version": "3.11.5"
  }
 },
 "nbformat": 4,
 "nbformat_minor": 4
}
