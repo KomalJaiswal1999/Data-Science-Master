{
 "cells": [
  {
   "cell_type": "markdown",
   "metadata": {},
   "source": [
    "### Q1. What is Statistics?"
   ]
  },
  {
   "cell_type": "markdown",
   "metadata": {},
   "source": [
    "Statistics is a branch of applied mathematics that involves the collection, description, analysis, and inference of conclusions from quantitative data. The mathematical theories behind statistics rely heavily on differential and integral calculus, linear algebra, and probability theory."
   ]
  },
  {
   "cell_type": "markdown",
   "metadata": {},
   "source": [
    "### Q2.  Define the different types of statistics and give an example of when each type might be used?"
   ]
  },
  {
   "cell_type": "markdown",
   "metadata": {},
   "source": [
    "1.Descriptive Statistics :- In the descriptive Statistics, the Data is described in a summarized way. The summarization is done from the sample of the population using different parameters like Mean or standard deviation. Descriptive Statistics are a way of using charts, graphs, and summary measures to organize, represent, and explain a set of Data.\n",
    "\n",
    "Data is typically arranged and displayed in tables or graphs summarizing details such as histograms, pie charts, bars or scatter plots.\n",
    "\n",
    "Descriptive Statistics are just descriptive and thus do not require normalization beyond the Data collected.\n",
    "\n",
    "EXAMPLE :- A student's grade point average (GPA), for example, provides a good understanding of descriptive statistics. The idea of a GPA is that it takes data points from a wide range of exams, classes, and grades, and averages them together to provide a general understanding of a student's overall academic performance.\n",
    "\n",
    "2.Inferential Statistics :- In the Inferential Statistics, we try to interpret the Meaning of descriptive Statistics. After the Data has been collected, analyzed, and summarised we use Inferential Statistics to describe the Meaning of the collected Data.\n",
    "\n",
    "Inferential Statistics use the probability principle to assess whether trends contained in the research sample can be generalized to the larger population from which the sample originally comes.\n",
    "\n",
    "Inferential Statistics are intended to test hypotheses and investigate relationships between variables and can be used to make population predictions.\n",
    "\n",
    "Inferential Statistics are used to draw conclusions and inferences, i.e., to make valid generalizations from samples.\n",
    "\n",
    "EXAMPLE:- Mr. A wants to open a coffee shop in New York, USA. To design the appropriate menu, a survey is conducted on 300 residents with the aim of understanding their tastes and preferences. The survey includes people of different age groups, gender, and income class. After applying the tools of inferential statistics."
   ]
  },
  {
   "cell_type": "markdown",
   "metadata": {},
   "source": [
    "### Q3. What are the different types of data and how do they differ from each other? Provide an example of each type of data?"
   ]
  },
  {
   "cell_type": "markdown",
   "metadata": {},
   "source": [
    "#### There are Two type of Data\n",
    "\n",
    "###### Categorical Data (Qualitative Data):- \n",
    "Categorical data represents characteristics. It is also called qualitative data, which means you cannot express it as a numerical value. Therefore, you cannot measure it. It involves variables such as words, symbols, pictures, which help you sort information based on a category—for example, holiday destinations, gender, language, etc.\n",
    "\n",
    "###### The categorical data has the following two categories of data:\n",
    "\n",
    "##### (a) Nominal Data:\n",
    "Nominal type of data involves variables that do not have any natural order. It is also known as nominal scale. It helps you in labeling variables without providing the numerical value. You cannot order or measure nominal data sets. Furthermore, you cannot perform any arithmetic operation on nominal variables like addition, subtraction, division, multiplication, etc.\n",
    "\n",
    "Example: 1.Color of a person's hair, like blonde, brown, black, burgundy, etc., cannot be compared with one another to derive any meaningful information about it. You cannot conclude that blonde is greater or less than brown. \n",
    "\n",
    "###### (b) Ordinal Data :\n",
    "Ordinal means something that is in order. The ordinal type of data involves variables that follow a natural order. Ordinal variables are placed in order by their position (for example, first, second, third, etc.). As the ordinal data variables only represent a sequence, you cannot perform any arithmetic operation on these variables like addition, subtraction, division, multiplications, etc. It is primarily found in surveys, questionnaires, finance, etc.\n",
    "\n",
    "For example:-\n",
    "1.Class ranking in a school: 8th, 9th, 10th, and so on \n",
    "\n",
    "2.Time of the day: morning, afternoon, dawn, evening, night, and so on\n",
    "\n",
    "##### Numerical Data (Quantitative Data) :-\n",
    "It is one of the simplest data types to understand. As the name says, it represents a numerical value and helps answer questions like how many, how much, how long, etc. Example, 1.The number of apples 2.The number of students in a class 3.The height/weight of a person\n",
    "\n",
    "Based on the data sets, the quantitative data is further classified into the two following categories of data:\n",
    "\n",
    "###### (a) Discrete Data :\n",
    "Discrete type of data involves only integers or discrete values. It contains a finite number of values that cannot be subdivided into smaller parts. It takes into account only those items that you cannot measure but only count.\n",
    "\n",
    "For example,\n",
    "\n",
    "Number of boats on a port Number of employees in an organization You can use a bar chart to display discrete types of data.\n",
    "\n",
    "###### (b) Continuous Data :\n",
    "Continuous type of data is the data that you can measure. It contains an infinite number of values that can be subdivided into smaller parts. It takes into account only those items that you cannot count but only measure. It can take any value between two numbers like 45.7, 23.8, 10.4, and so on.\n",
    "\n",
    "For example,\n",
    "\n",
    "Length of pages of a book Time taken by athletes to finish a race The weight of students in a class It is further divided into the following categories of data: 3. Interval Data Interval data values have meaningful distances between the measurements defined. It is a data type that is measured along a scale, in which each point is placed at an equal distance from one another. It involves variables containing numerical values that you can order and calculate the exact difference between them. For example, temperature, dates, time-interval (4 am, 4 pm), etc. 4. Ratio Data Ratio data is identical to interval data, except it does have an absolute zero. It is also an ordered data unit that can only be measured and ordered with equidistant items. Unlike interval data, these values can never be negative. For example, age, height, or weight of a person. Age, height, or weight can be measured but can never be a negative value."
   ]
  },
  {
   "cell_type": "markdown",
   "metadata": {},
   "source": [
    "### Q4. Categorise the following datasets with respect to quantitative and qualitative data types:\n",
    "\n",
    "\n",
    "##### (i)\tGrading in exam: A+, A, B+, B, C+, C, D, E\n",
    "   Qualtitative Datatypes(Ordinal)\n",
    "\n",
    "##### (ii)\tColour of mangoes: yellow, green, orange, red\n",
    "   Qualtitative Datatypes(Nominal)\n",
    "\n",
    "\n",
    "##### (iii)\tHeight data of a class: [178.9, 179, 179.5, 176, 177.2, 178.3, 175.8,...] \n",
    "   Quantitative Datatypes(Continuous)\n",
    "\n",
    "##### (iv)\tNumber of mangoes exported by a farm: [500, 600, 478, 672, …]\n",
    "   Quantitative Datatypes(Discrete)"
   ]
  },
  {
   "cell_type": "markdown",
   "metadata": {},
   "source": [
    "### Q5. Explain the concept of levels of measurement and give an example of a variable for each level?"
   ]
  },
  {
   "cell_type": "markdown",
   "metadata": {},
   "source": [
    " Levels of measurement, also called scales of measurement, tell you how precisely variables are recorded. In scientific research, a variable is anything that can take on different values across your data set (e.g., height or test scores).\n",
    "\n",
    "There are 4 levels of measurement:\n",
    "\n",
    "Nominal: the data can only be categorized. Ex- City of birth\n",
    "\n",
    "Ordinal: the data can be categorized and ranked. Ex- Top 5 Olympic medallists\n",
    "\n",
    "Interval: the data can be categorized, ranked, and evenly spaced. Ex- Test scores (e.g., IQ or exams)\n",
    "\n",
    "Ratio: the data can be categorized, ranked, evenly spaced, and has a natural zero. Ex- Heigh"
   ]
  },
  {
   "cell_type": "markdown",
   "metadata": {},
   "source": [
    "### Q6. Why is it important to understand the level of measurement when analyzing data? Provide an example to illustrate your answer?"
   ]
  },
  {
   "cell_type": "markdown",
   "metadata": {},
   "source": [
    "It is important to understand the level of measurement of variables in research, because the level of measurement determines the type of statistical analysis that can be conducted, and, therefore, the type of conclusions that can be drawn from the research."
   ]
  },
  {
   "cell_type": "markdown",
   "metadata": {},
   "source": [
    "### Q7. How nominal data type is different from ordinal data type?"
   ]
  },
  {
   "cell_type": "markdown",
   "metadata": {},
   "source": [
    "Nominal data is a group of non-parametric variables, whereas Ordinal data is a group of non-parametric ordered variables. \n",
    "\n",
    "Ordinal data is analyzed by mode, median, quartiles, and percentile, whereas nominal data is analyzed by grouping variables into categories and calculating the distribution mode."
   ]
  },
  {
   "cell_type": "markdown",
   "metadata": {},
   "source": [
    "### Q8. Which type of plot can be used to display data in terms of range?"
   ]
  },
  {
   "cell_type": "markdown",
   "metadata": {},
   "source": [
    "Histogram type of plot can be used to display data in terms of range."
   ]
  },
  {
   "cell_type": "markdown",
   "metadata": {},
   "source": [
    "### Q9.  Describe the difference between descriptive and inferential statistics. Give an example of each type of statistics and explain how they are used."
   ]
  },
  {
   "cell_type": "markdown",
   "metadata": {},
   "source": [
    "Descriptive statistics summarize the features or characteristics of a data set, \n",
    "\n",
    "while Inferential statistics enables the user to test a hypothesis to check if the data is generalizable to the wider population.\n",
    "\n",
    "Example of Descriptive Statistics: Measures of centre tendency (mean, median, mode), measures of variability (range, variance, standard deviation), frequency distributions, histograms, scatterplots, and box plots are examples of descriptive statistics tools.\n",
    "\n",
    "Example of Inferential Statistics: Regression analysis, confidence ranges, and hypothesis testing. For instance, you could use inferential statistics to assess whether there is a significant difference in the outcomes of patients who receive the drug compared to those who receive a placebo if you want to know if a new drug is effective."
   ]
  },
  {
   "cell_type": "markdown",
   "metadata": {},
   "source": [
    "### Q10. What are some common measures of central tendency and variability used in statistics? Explain how each measure can be used to describe a dataset?"
   ]
  },
  {
   "cell_type": "markdown",
   "metadata": {},
   "source": [
    "Measures of Central Tendency\n",
    "\n",
    "Mean: The sum of all measurements divided by the number of observations.Can be used with discrete and continuous data. It is value that is most common\n",
    "\n",
    "Median: The middle value that separates the higher half from the lower half. Mean and median can be compared with each other to determine if the population is of normal distribution or not. Numbers are arranged in either ascending or descending order. The middle number is than taken.\n",
    "\n",
    "Mode: The most frequent value. It shows most popular option and is the highest bar in histogram.Example of use: to determine the most common blood group.\n",
    "\n",
    "Variability (dispersion): dispersion is contrasted with location or central tendency, and together they are the most used properties of distributions\n",
    "\n",
    "Measures of variability:\n",
    "\n",
    "Variance: A measure of how far a set of numbers are spread out from each other. It describes how far the numbers lie from the mean (expected value). It is the square of standard deviation.\n",
    "\n",
    "Standard deviation (SD): it is only used for data that are “normally distributed”. SD indicates how much a set of values is spread around the average.[2] SD is determined by the variance (SD=the root of the variance)."
   ]
  },
  {
   "cell_type": "code",
   "execution_count": null,
   "metadata": {},
   "outputs": [],
   "source": []
  }
 ],
 "metadata": {
  "kernelspec": {
   "display_name": "Python 3 (ipykernel)",
   "language": "python",
   "name": "python3"
  },
  "language_info": {
   "codemirror_mode": {
    "name": "ipython",
    "version": 3
   },
   "file_extension": ".py",
   "mimetype": "text/x-python",
   "name": "python",
   "nbconvert_exporter": "python",
   "pygments_lexer": "ipython3",
   "version": "3.11.5"
  }
 },
 "nbformat": 4,
 "nbformat_minor": 4
}
