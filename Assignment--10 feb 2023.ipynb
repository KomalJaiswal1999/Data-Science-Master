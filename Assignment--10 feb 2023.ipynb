{
 "cells": [
  {
   "cell_type": "markdown",
   "metadata": {},
   "source": [
    "### Q1. Which function is used to open a file? What are the different modes of opening a file? Explain each mode of file opening."
   ]
  },
  {
   "cell_type": "markdown",
   "metadata": {},
   "source": [
    "open() method is used to open a file.\n",
    "\n",
    "##### Different modes of opening a file are-\n",
    "r--\tOpen a file for reading. (default)\n",
    "\n",
    "w--\tOpen a file for writing. Creates a new file if it does not exist or truncates the file if it exists.\n",
    "\n",
    "x--\tOpen a file for exclusive creation. If the file already exists, the operation fails.\n",
    "\n",
    "a--\tOpen a file for appending at the end of the file without truncating it. Creates a new file if it does not exist.\n",
    "\n",
    "t--\tOpen in text mode. (default)\n",
    "\n",
    "b--\tOpen in binary mode.\n",
    "\n",
    "+--\tOpen a file for updating (reading and writing)"
   ]
  },
  {
   "cell_type": "markdown",
   "metadata": {},
   "source": [
    "### Q2. Why close() function is used? Why is it important to close a file?"
   ]
  },
  {
   "cell_type": "markdown",
   "metadata": {},
   "source": [
    "##### close()-\n",
    "It is used to close an opened file, if the file does not exist, it returns an error\n",
    "\n",
    "Syntax:\n",
    "\n",
    "    file_object.close();\n",
    "    \n",
    "##### Why is it important to close a file\n",
    "Because files are limited resources managed by the operating system, making sure files are closed after use will protect against hard-to-debug issues like running out of file handles or experiencing corrupted data. The best defense is always to open files with a context manager."
   ]
  },
  {
   "cell_type": "markdown",
   "metadata": {},
   "source": [
    "### Q3.  Write a python program to create a text file. Write ‘I want to become a Data Scientist’ in that file. Then close the file. Open this file and read the content of the file.  "
   ]
  },
  {
   "cell_type": "code",
   "execution_count": 7,
   "metadata": {},
   "outputs": [
    {
     "name": "stdout",
     "output_type": "stream",
     "text": [
      "I want to become a Data Scientist\n",
      "\n"
     ]
    }
   ],
   "source": [
    "#creating a text file\n",
    "file= open(\"Pwskill.txt\",\"w+\")\n",
    "# writing in text file\n",
    "file.write(\"I want to become a Data Scientist\\n\")\n",
    "# closing text file\n",
    "file.close()\n",
    "\n",
    "\n",
    "#opening and reading the content of the file\n",
    "file = open(\"Pwskill.txt\", \"r\")\n",
    "print(file.read())\n"
   ]
  },
  {
   "cell_type": "markdown",
   "metadata": {},
   "source": [
    "### Q4.  Explain the following with python code: read(), readline() and readlines()."
   ]
  },
  {
   "cell_type": "markdown",
   "metadata": {},
   "source": [
    "##### read()--\n",
    "read() method returns the whole text, but you can also specify how many characters you want to return\n",
    "\n",
    "##### readline()--\n",
    "Reads a line of the file and returns in the form of a string. readline ( ) function does not read more than one line at a time. \n",
    "\n",
    "##### readlines()--\n",
    "Reads all the lines and returns them as a string element in a list. Readlines ( ) is used to read all the lines at a single go and then return them as a string element in a list. This function can be used for small files, as it reads the whole file content to the memory, then splits it into separate lines. Using the strip () function, we can iterate over the list and strip the newline ' \\n ' character using the strip ( ) function."
   ]
  },
  {
   "cell_type": "code",
   "execution_count": 8,
   "metadata": {},
   "outputs": [
    {
     "name": "stdout",
     "output_type": "stream",
     "text": [
      "I want to become a Data Scientist\n",
      "\n",
      "['I want to become a Data Scientist\\n']\n"
     ]
    }
   ],
   "source": [
    "f = open(\"Pwskill.txt\", \"r\")\n",
    "print(f.read()) #\n",
    "\n",
    "f = open(\"Pwskill.txt\", \"r\")\n",
    "print(f.readlines(33))\n",
    "\n"
   ]
  },
  {
   "cell_type": "markdown",
   "metadata": {},
   "source": [
    "### Q5.  Explain why with statement is used with open(). What is the advantage of using with statement and open() together?"
   ]
  },
  {
   "cell_type": "markdown",
   "metadata": {},
   "source": [
    "When you call the open() function using the with statement, the file closes automatically after you've processed the file.\n",
    "The with statement is a replacement for commonly used try/finally error-handling statements.\n",
    "A common example of using the with statement is opening a file.\n",
    "To open and write to a file in Python, you can use the with statement as follows:\n",
    "\n",
    "##### Example\n",
    "\n",
    "with open(\"example.txt\", \"w\") as file:\n",
    "    file.write(\"Hello World!\")\n",
    "\n"
   ]
  },
  {
   "cell_type": "markdown",
   "metadata": {},
   "source": [
    "###  Q6. Explain the write() and writelines() functions. Give a suitable example."
   ]
  },
  {
   "cell_type": "markdown",
   "metadata": {},
   "source": [
    "##### write()--\n",
    "The write() function will write the content in the file without adding any extra characters.\n",
    "While writing data to a file, we must know that the write function does not add a newline character(\\n) to the end of the string. The write() function returns None.\n",
    "write() is used to write a string to an already opened file\n",
    "\n",
    "\n",
    "##### writelines()--\n",
    "writelines() method is used to write a list of strings in an opened file.\n",
    "This function writes the content of a list to a file.\n",
    "writelines() function does not add a newline character(\\n) to the end of the string.\n"
   ]
  },
  {
   "cell_type": "code",
   "execution_count": 7,
   "metadata": {},
   "outputs": [
    {
     "name": "stdout",
     "output_type": "stream",
     "text": [
      "Data Science Masters!PythonMachine LearningData Science Masters!Data Science Masters!PythonMachine Learning\n"
     ]
    }
   ],
   "source": [
    "f = open(\"test1.txt\", \"a\")\n",
    "f.writelines([\"Data Science Masters!\",\"Python\",\"Machine Learning\"])\n",
    "f.close()\n",
    "\n",
    "#open and read the file after the appending:\n",
    "f = open(\"test1.txt\", \"r\")\n",
    "print(f.read())"
   ]
  },
  {
   "cell_type": "code",
   "execution_count": 5,
   "metadata": {},
   "outputs": [
    {
     "name": "stdout",
     "output_type": "stream",
     "text": [
      "Data Science Masters!\n"
     ]
    }
   ],
   "source": [
    "f = open(\"test2.txt\", \"a\")\n",
    "f.write(\"Data Science Masters!\")\n",
    "f.close()\n",
    "\n",
    "#open and read the file \n",
    "f = open(\"test2.txt\", \"r\")\n",
    "print(f.read())"
   ]
  },
  {
   "cell_type": "code",
   "execution_count": null,
   "metadata": {},
   "outputs": [],
   "source": []
  }
 ],
 "metadata": {
  "kernelspec": {
   "display_name": "Python 3",
   "language": "python",
   "name": "python3"
  },
  "language_info": {
   "codemirror_mode": {
    "name": "ipython",
    "version": 3
   },
   "file_extension": ".py",
   "mimetype": "text/x-python",
   "name": "python",
   "nbconvert_exporter": "python",
   "pygments_lexer": "ipython3",
   "version": "3.8.3"
  }
 },
 "nbformat": 4,
 "nbformat_minor": 4
}
